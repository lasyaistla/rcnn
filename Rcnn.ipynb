{
  "nbformat": 4,
  "nbformat_minor": 0,
  "metadata": {
    "colab": {
      "name": "Rcnn.ipynb",
      "provenance": [],
      "authorship_tag": "ABX9TyOx/DZBFHqhM2eMtdGA2CNI",
      "include_colab_link": true
    },
    "kernelspec": {
      "name": "python3",
      "display_name": "Python 3"
    },
    "language_info": {
      "name": "python"
    }
  },
  "cells": [
    {
      "cell_type": "markdown",
      "metadata": {
        "id": "view-in-github",
        "colab_type": "text"
      },
      "source": [
        "<a href=\"https://colab.research.google.com/github/lasyaistla/rcnn/blob/main/Rcnn.ipynb\" target=\"_parent\"><img src=\"https://colab.research.google.com/assets/colab-badge.svg\" alt=\"Open In Colab\"/></a>"
      ]
    },
    {
      "cell_type": "code",
      "execution_count": 1,
      "metadata": {
        "colab": {
          "base_uri": "https://localhost:8080/",
          "height": 330
        },
        "id": "PXCC1p5zW01h",
        "outputId": "e12fe8d5-4ac3-4e83-ed5d-9371b1bd6a3b"
      },
      "outputs": [
        {
          "output_type": "error",
          "ename": "ValueError",
          "evalue": "ignored",
          "traceback": [
            "\u001b[0;31m---------------------------------------------------------------------------\u001b[0m",
            "\u001b[0;31mValueError\u001b[0m                                Traceback (most recent call last)",
            "\u001b[0;32m<ipython-input-1-ebbb8508cfbb>\u001b[0m in \u001b[0;36m<module>\u001b[0;34m()\u001b[0m\n\u001b[1;32m      1\u001b[0m \u001b[0;32mfrom\u001b[0m \u001b[0mgoogle\u001b[0m\u001b[0;34m.\u001b[0m\u001b[0mcolab\u001b[0m \u001b[0;32mimport\u001b[0m \u001b[0mdrive\u001b[0m\u001b[0;34m\u001b[0m\u001b[0;34m\u001b[0m\u001b[0m\n\u001b[0;32m----> 2\u001b[0;31m \u001b[0mdrive\u001b[0m\u001b[0;34m.\u001b[0m\u001b[0mmount\u001b[0m\u001b[0;34m(\u001b[0m\u001b[0;34m'/Add your data'\u001b[0m\u001b[0;34m)\u001b[0m\u001b[0;34m\u001b[0m\u001b[0;34m\u001b[0m\u001b[0m\n\u001b[0m",
            "\u001b[0;32m/usr/local/lib/python3.7/dist-packages/google/colab/drive.py\u001b[0m in \u001b[0;36mmount\u001b[0;34m(mountpoint, force_remount, timeout_ms, use_metadata_server)\u001b[0m\n\u001b[1;32m    111\u001b[0m       \u001b[0mtimeout_ms\u001b[0m\u001b[0;34m=\u001b[0m\u001b[0mtimeout_ms\u001b[0m\u001b[0;34m,\u001b[0m\u001b[0;34m\u001b[0m\u001b[0;34m\u001b[0m\u001b[0m\n\u001b[1;32m    112\u001b[0m       \u001b[0muse_metadata_server\u001b[0m\u001b[0;34m=\u001b[0m\u001b[0muse_metadata_server\u001b[0m\u001b[0;34m,\u001b[0m\u001b[0;34m\u001b[0m\u001b[0;34m\u001b[0m\u001b[0m\n\u001b[0;32m--> 113\u001b[0;31m       ephemeral=ephemeral)\n\u001b[0m\u001b[1;32m    114\u001b[0m \u001b[0;34m\u001b[0m\u001b[0m\n\u001b[1;32m    115\u001b[0m \u001b[0;34m\u001b[0m\u001b[0m\n",
            "\u001b[0;32m/usr/local/lib/python3.7/dist-packages/google/colab/drive.py\u001b[0m in \u001b[0;36m_mount\u001b[0;34m(mountpoint, force_remount, timeout_ms, use_metadata_server, ephemeral)\u001b[0m\n\u001b[1;32m    124\u001b[0m \u001b[0;34m\u001b[0m\u001b[0m\n\u001b[1;32m    125\u001b[0m   \u001b[0;32mif\u001b[0m \u001b[0;34m' '\u001b[0m \u001b[0;32min\u001b[0m \u001b[0mmountpoint\u001b[0m\u001b[0;34m:\u001b[0m\u001b[0;34m\u001b[0m\u001b[0;34m\u001b[0m\u001b[0m\n\u001b[0;32m--> 126\u001b[0;31m     \u001b[0;32mraise\u001b[0m \u001b[0mValueError\u001b[0m\u001b[0;34m(\u001b[0m\u001b[0;34m'Mountpoint must not contain a space.'\u001b[0m\u001b[0;34m)\u001b[0m\u001b[0;34m\u001b[0m\u001b[0;34m\u001b[0m\u001b[0m\n\u001b[0m\u001b[1;32m    127\u001b[0m \u001b[0;34m\u001b[0m\u001b[0m\n\u001b[1;32m    128\u001b[0m   \u001b[0;32mif\u001b[0m \u001b[0mephemeral\u001b[0m \u001b[0;32mand\u001b[0m \u001b[0;32mnot\u001b[0m \u001b[0muse_metadata_server\u001b[0m\u001b[0;34m:\u001b[0m\u001b[0;34m\u001b[0m\u001b[0;34m\u001b[0m\u001b[0m\n",
            "\u001b[0;31mValueError\u001b[0m: Mountpoint must not contain a space."
          ]
        }
      ],
      "source": [
        "from google.colab import drive\n",
        "drive.mount('/Add your data')"
      ]
    },
    {
      "cell_type": "code",
      "source": [
        "import tensorflow as tf\n",
        "tf.__version__"
      ],
      "metadata": {
        "id": "k8hbEA0sW-3U"
      },
      "execution_count": null,
      "outputs": []
    },
    {
      "cell_type": "code",
      "source": [
        "import os,cv2,keras\n",
        "import pandas as pd\n",
        "import matplotlib.pyplot as plt\n",
        "import numpy as np\n",
        "import tensorflow as tf"
      ],
      "metadata": {
        "id": "6dhWZAY-XCWZ"
      },
      "execution_count": null,
      "outputs": []
    },
    {
      "cell_type": "code",
      "source": [
        "path = \"/content/drive/My Drive/AI content/RCNN-master/Images\"\n",
        "annot = \"/content/drive/My Drive/AI content/RCNN-master/Airplanes_Annotations\""
      ],
      "metadata": {
        "id": "E2pfkoB4XGxN"
      },
      "execution_count": null,
      "outputs": []
    },
    {
      "cell_type": "code",
      "source": [
        "Index=148\n",
        "        filename = \"airplane_\"+str(Index)+\".jpg\"\n",
        "        print(filename)\n",
        "        img = cv2.imread(os.path.join(path,filename))\n",
        "        df = pd.read_csv(os.path.join(annot,filename.replace(\".jpg\",\".csv\")))\n",
        "        plt.imshow(img)\n",
        "        for row in df.iterrows():\n",
        "            x1 = int(row[1][0].split(\" \")[0])\n",
        "            y1 = int(row[1][0].split(\" \")[1])\n",
        "            x2 = int(row[1][0].split(\" \")[2])\n",
        "            y2 = int(row[1][0].split(\" \")[3])\n",
        "            cv2.rectangle(img,(x1,y1),(x2,y2),(255,0,0), 2)\n",
        "        plt.figure()\n",
        "        plt.imshow(img)"
      ],
      "metadata": {
        "id": "5eXIYGVWXRRj"
      },
      "execution_count": null,
      "outputs": []
    },
    {
      "cell_type": "code",
      "source": [
        "cv2.setUseOptimized(True);\n",
        "ss = cv2.ximgproc.segmentation.createSelectiveSearchSegmentation()\n"
      ],
      "metadata": {
        "id": "3jUAArsqXSTE"
      },
      "execution_count": null,
      "outputs": []
    },
    {
      "cell_type": "code",
      "source": [
        "im = cv2.imread(os.path.join(path,\"42850.jpg\"))\n",
        "ss.setBaseImage(im)\n",
        "ss.switchToSelectiveSearchFast()\n",
        "rects = ss.process()\n",
        "imOut = im.copy()\n",
        "for i, rect in (enumerate(rects)):\n",
        "    x, y, w, h = rect\n",
        "#     print(x,y,w,h)\n",
        "#     imOut = imOut[x:x+w,y:y+h]\n",
        "    cv2.rectangle(imOut, (x, y), (x+w, y+h), (0, 255, 0), 1, cv2.LINE_AA)\n",
        "# plt.figure()\n",
        "plt.imshow(imOut)\n"
      ],
      "metadata": {
        "id": "KzAFv6FUXXYG"
      },
      "execution_count": null,
      "outputs": []
    },
    {
      "cell_type": "markdown",
      "source": [
        ""
      ],
      "metadata": {
        "id": "D781szZTXbb0"
      }
    },
    {
      "cell_type": "code",
      "source": [
        "def get_iou(bb1, bb2):\n",
        "  # assuring for proper dimension.\n",
        "    assert bb1['x1'] < bb1['x2']\n",
        "    assert bb1['y1'] < bb1['y2']\n",
        "    assert bb2['x1'] < bb2['x2']\n",
        "    assert bb2['y1'] < bb2['y2']\n",
        "  # calculating dimension of common area between these two boxes.\n",
        "    x_left = max(bb1['x1'], bb2['x1'])\n",
        "    y_top = max(bb1['y1'], bb2['y1'])\n",
        "    x_right = min(bb1['x2'], bb2['x2'])\n",
        "    y_bottom = min(bb1['y2'], bb2['y2'])\n",
        "  # if there is no overlap output 0 as intersection area is zero.\n",
        "    if x_right < x_left or y_bottom < y_top:\n",
        "        return 0.0\n",
        "  # calculating intersection area.\n",
        "    intersection_area = (x_right - x_left) * (y_bottom - y_top)\n",
        "  # individual areas of both these bounding boxes.\n",
        "    bb1_area = (bb1['x2'] - bb1['x1']) * (bb1['y2'] - bb1['y1'])\n",
        "    bb2_area = (bb2['x2'] - bb2['x1']) * (bb2['y2'] - bb2['y1'])\n",
        "  # union area = area of bb1_+ area of bb2 - intersection of bb1 and bb2.\n",
        "    iou = intersection_area / float(bb1_area + bb2_area - intersection_area)\n",
        "    assert iou >= 0.0\n",
        "    assert iou <= 1.0\n",
        "    return iou"
      ],
      "metadata": {
        "id": "MdF6qFPsXcCC"
      },
      "execution_count": null,
      "outputs": []
    },
    {
      "cell_type": "code",
      "source": [
        "train_images=[]\n",
        "train_labels=[]"
      ],
      "metadata": {
        "id": "rm0LUlxJXg5f"
      },
      "execution_count": null,
      "outputs": []
    },
    {
      "cell_type": "code",
      "source": [
        "for e,i in enumerate(os.listdir(annot)):\n",
        "    try:\n",
        "        if i.startswith(\"airplane\"):\n",
        "            filename = i.split(\".\")[0]+\".jpg\"\n",
        "            print(e,filename)\n",
        "            image = cv2.imread(os.path.join(path,filename))\n",
        "            df = pd.read_csv(os.path.join(annot,i))\n",
        "            gtvalues=[]\n",
        "            for row in df.iterrows():\n",
        "                x1 = int(row[1][0].split(\" \")[0])\n",
        "                y1 = int(row[1][0].split(\" \")[1])\n",
        "                x2 = int(row[1][0].split(\" \")[2])\n",
        "                y2 = int(row[1][0].split(\" \")[3])\n",
        "                gtvalues.append({\"x1\":x1,\"x2\":x2,\"y1\":y1,\"y2\":y2})\n",
        "            ss.setBaseImage(image)   # setting given image as base image\n",
        "            ss.switchToSelectiveSearchFast()     # running selective search on bae image \n",
        "            ssresults = ss.process()     # processing to get the outputs\n",
        "            imout = image.copy()   \n",
        "            counter = 0\n",
        "            falsecounter = 0\n",
        "            flag = 0\n",
        "            fflag = 0\n",
        "            bflag = 0\n",
        "            for e,result in enumerate(ssresults):\n",
        "                if e < 2000 and flag == 0:     # till 2000 to get top 2000 regions only\n",
        "                    for gtval in gtvalues:\n",
        "                        x,y,w,h = result\n",
        "                        iou = get_iou(gtval,{\"x1\":x,\"x2\":x+w,\"y1\":y,\"y2\":y+h})  # calculating IoU for each of the proposed regions\n",
        "                        if counter < 30:       # getting only 30 psoitive examples\n",
        "                            if iou > 0.70:     # IoU or being positive is 0.7\n",
        "                                timage = imout[x:x+w,y:y+h]\n",
        "                                resized = cv2.resize(timage, (224,224), interpolation = cv2.INTER_AREA)\n",
        "                                train_images.append(resized)\n",
        "                                train_labels.append(1)\n",
        "                                counter += 1\n",
        "                        else :\n",
        "                            fflag =1              # to insure we have collected all psotive examples\n",
        "                        if falsecounter <30:      # 30 negatve examples are allowed only\n",
        "                            if iou < 0.3:         # IoU or being negative is 0.3\n",
        "                                timage = imout[x:x+w,y:y+h]\n",
        "                                resized = cv2.resize(timage, (224,224), interpolation = cv2.INTER_AREA)\n",
        "                                train_images.append(resized)\n",
        "                                train_labels.append(0)\n",
        "                                falsecounter += 1\n",
        "                        else :\n",
        "                            bflag = 1             #to ensure we have collected all negative examples\n",
        "                    if fflag == 1 and bflag == 1:  \n",
        "                        print(\"inside\")\n",
        "                        flag = 1        # to signal the complition of data extaction from a particular image\n",
        "    except Exception as e:\n",
        "        print(e)\n",
        "        print(\"error in \"+filename)\n",
        "        continue"
      ],
      "metadata": {
        "id": "yqsSB0z9XmHQ"
      },
      "execution_count": null,
      "outputs": []
    },
    {
      "cell_type": "code",
      "source": [
        "X_new = np.array(train_images)\n",
        "Y_new = np.array(train_labels)"
      ],
      "metadata": {
        "id": "7f0ZyKVNXqXr"
      },
      "execution_count": null,
      "outputs": []
    },
    {
      "cell_type": "markdown",
      "source": [
        ""
      ],
      "metadata": {
        "id": "aQXosEZdXvIg"
      }
    },
    {
      "cell_type": "code",
      "source": [
        "from keras.layers import Dense\n",
        "from keras import Model\n",
        "from keras import optimizers"
      ],
      "metadata": {
        "id": "qj9_kbP3XvkJ"
      },
      "execution_count": null,
      "outputs": []
    },
    {
      "cell_type": "code",
      "source": [
        "vgg = tf.keras.applications.vgg16.VGG16(include_top=True, weights='imagenet', input_tensor=None, input_shape=None, pooling=None, classes=1000)\n",
        "for layer in vgg.layers[:-2]:\n",
        "  layer.trainable = False\n",
        "x = vgg.get_layer('fc2')\n",
        "last_output =  x.output\n",
        "x = tf.keras.layers.Dense(1,activation = 'sigmoid')(last_output)  \n",
        "model = tf.keras.Model(vgg.input,x)\n",
        "model.compile(optimizer = \"adam\", \n",
        "              loss = 'binary_crossentropy', \n",
        "              metrics = ['acc'])\n"
      ],
      "metadata": {
        "id": "9JsPrjeRXzcL"
      },
      "execution_count": null,
      "outputs": []
    },
    {
      "cell_type": "code",
      "source": [
        "model.summary()\n",
        "model.fit(X_new,Y_new,batch_size = 64,epochs = 3, verbose = 1,validation_split=.05,shuffle = True)"
      ],
      "metadata": {
        "id": "ZYTAP4zYX2zy"
      },
      "execution_count": null,
      "outputs": []
    },
    {
      "cell_type": "code",
      "source": [
        "svm_image = [];\n",
        "svm_label = [];"
      ],
      "metadata": {
        "id": "52OYWeTLX6Wg"
      },
      "execution_count": null,
      "outputs": []
    },
    {
      "cell_type": "code",
      "source": [
        "for e,i in enumerate(os.listdir(annot)):\n",
        "    try:\n",
        "        if i.startswith(\"airplane\"):\n",
        "            filename = i.split(\".\")[0]+\".jpg\"\n",
        "            print(e,filename)\n",
        "            image = cv2.imread(os.path.join(path,filename))\n",
        "            df = pd.read_csv(os.path.join(annot,i))\n",
        "            gtvalues=[]\n",
        "            for row in df.iterrows():\n",
        "                x1 = int(row[1][0].split(\" \")[0])\n",
        "                y1 = int(row[1][0].split(\" \")[1])\n",
        "                x2 = int(row[1][0].split(\" \")[2])\n",
        "                y2 = int(row[1][0].split(\" \")[3]) \n",
        "                gtvalues.append({\"x1\":x1,\"x2\":x2,\"y1\":y1,\"y2\":y2})\n",
        "                timage = image[x1:x2,y1:y2]\n",
        "                resized = cv2.resize(timage, (224,224), interpolation = cv2.INTER_AREA)\n",
        "                svm_image.append(resized)\n",
        "                svm_label.append([0,1])\n",
        "            ss.setBaseImage(image)\n",
        "            ss.switchToSelectiveSearchFast()\n",
        "            ssresults = ss.process()\n",
        "            imout = image.copy()\n",
        "            counter = 0\n",
        "            falsecounter = 0\n",
        "            flag = 0\n",
        "            for e,result in enumerate(ssresults):\n",
        "                if e < 2000 and flag == 0:\n",
        "                    for gtval in gtvalues:\n",
        "                        x,y,w,h = result\n",
        "                        iou = get_iou(gtval,{\"x1\":x,\"x2\":x+w,\"y1\":y,\"y2\":y+h})\n",
        "                        if falsecounter <5:\n",
        "                            if iou < 0.3:\n",
        "                                timage = imout[x:x+w,y:y+h]\n",
        "                                resized = cv2.resize(timage, (224,224), interpolation = cv2.INTER_AREA)\n",
        "                                svm_image.append(resized)\n",
        "                                svm_label.append([1,0])\n",
        "                                falsecounter += 1\n",
        "                        else :\n",
        "                            flag = 1\n",
        "    except Exception as e:\n",
        "        print(e)\n",
        "        print(\"error in \"+filename)\n",
        "        continue\n"
      ],
      "metadata": {
        "id": "_ubm9AarX_ra"
      },
      "execution_count": null,
      "outputs": []
    },
    {
      "cell_type": "code",
      "source": [
        "x =model.get_layer('fc2').output\n",
        "Y = tf.keras.layers.Dense(2)(x)\n",
        "final_model = tf.keras.Model(model.input,Y)\n",
        "final_model.compile(loss='hinge',\n",
        "              optimizer='adam',\n",
        "              metrics=['accuracy'])\n",
        "final_model.summary()\n",
        "final_model.load_weights('my_model_weights.h5')\n",
        "hist_final = final_model.fit(np.array(svm_image),np.array(svm_label),batch_size=32,epochs = 20,verbose = 1,shuffle = True,validation_split = 0.05)\n",
        "import matplotlib.pyplot as plt\n",
        "# plt.plot(hist.history[\"acc\"])\n",
        "# plt.plot(hist.history['val_acc'])\n",
        "plt.plot(hist_final.history['loss'])\n",
        "plt.plot(hist_final.history['val_loss'])\n",
        "plt.title(\"model loss\")\n",
        "plt.ylabel(\"Loss\")\n",
        "plt.xlabel(\"Epoch\")\n",
        "plt.legend([\"Loss\",\"Validation Loss\"])\n",
        "plt.show()\n",
        "plt.savefig('chart loss.png')\n"
      ],
      "metadata": {
        "id": "IKETEBXYYGG3"
      },
      "execution_count": null,
      "outputs": []
    },
    {
      "cell_type": "code",
      "source": [
        "image = cv2.imread(os.path.join(path,'airplane_020.jpg'))\n",
        "ss.setBaseImage(image)\n",
        "ss.switchToSelectiveSearchFast()\n",
        "ssresults = ss.process()\n",
        "\n",
        "imOut = image.copy()\n",
        "boxes = []\n",
        "count = 0\n",
        "for e,result in enumerate(ssresults):\n",
        "  if e < 50:\n",
        "    x,y,w,h = result\n",
        "    timage = imout[x:x+w,y:y+h]\n",
        "    resized = cv2.resize(timage, (224,224), interpolation = cv2.INTER_AREA)\n",
        "    resized = np.expand_dims(resized,axis = 0)\n",
        "    out = final_model.predict(resized)\n",
        "    print(e,out)\n",
        "    if(out[0][0]<out[0][1]):\n",
        "      boxes.append([x,y,w,h])\n",
        "      count+=1\n",
        "\n",
        "for box in boxes:\n",
        "    x, y, w, h = box\n",
        "    print(x,y,w,h)\n",
        "#     imOut = imOut[x:x+w,y:y+h]\n",
        "    cv2.rectangle(imOut, (x, y), (x+w, y+h), (0, 255, 0), 1, cv2.LINE_AA)\n",
        "# plt.figure()\n",
        "plt.imshow(imOut)\n"
      ],
      "metadata": {
        "id": "zd1I0eU1YTQo"
      },
      "execution_count": null,
      "outputs": []
    }
  ]
}